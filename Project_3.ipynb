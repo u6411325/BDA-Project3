{
 "cells": [
  {
   "cell_type": "code",
   "execution_count": 3,
   "metadata": {},
   "outputs": [],
   "source": [
    "import pandas as pd\n",
    "import json\n",
    "\n",
    "# Load the JSON data as multiple objects\n",
    "with open('finalproject.json', 'r') as f:\n",
    "    lines = f.readlines()\n",
    "    data = [json.loads(line) for line in lines if line.strip() != \"\"]\n",
    "\n",
    "# Process each JSON object and store the results in a list\n",
    "all_items = []\n",
    "\n",
    "for entry in data:\n",
    "    # Expand the items list into its own DataFrame\n",
    "    items_df = pd.json_normalize(entry, record_path='items', meta=['_id', 'saleDate', 'storeLocation', 'customer', 'couponUsed', 'purchaseMethod'])\n",
    "\n",
    "    # Convert price from dictionary to float\n",
    "    items_df['price'] = items_df['price.$numberDecimal'].astype(float)\n",
    "    # Drop the old price column\n",
    "    items_df.drop(columns=['price.$numberDecimal'], inplace=True)\n",
    "\n",
    "    all_items.append(items_df)\n",
    "\n",
    "# Concatenate all DataFrames into one\n",
    "final_df = pd.concat(all_items, ignore_index=True)\n",
    "\n",
    "# Save the final DataFrame to CSV\n",
    "final_df.to_csv('finalproject_items.csv', index=False)\n",
    "\n"
   ]
  },
  {
   "cell_type": "code",
   "execution_count": 4,
   "metadata": {},
   "outputs": [],
   "source": [
    "import pandas as pd\n",
    "\n",
    "df = pd.read_csv('finalproject_items.csv')\n"
   ]
  },
  {
   "cell_type": "code",
   "execution_count": 5,
   "metadata": {},
   "outputs": [
    {
     "name": "stdout",
     "output_type": "stream",
     "text": [
      "name\n",
      "laptop           6775977.07\n",
      "backpack          817374.10\n",
      "pens              581843.27\n",
      "binder            511644.57\n",
      "notepad           463615.48\n",
      "envelopes         376658.49\n",
      "printer paper     367459.29\n",
      "Name: total_sales, dtype: float64\n"
     ]
    }
   ],
   "source": [
    "df['total_sales'] = df['quantity'] * df['price']\n",
    "top_10_products = df.groupby('name')['total_sales'].sum().sort_values(ascending=False).head(10)\n",
    "print(top_10_products)\n"
   ]
  },
  {
   "cell_type": "code",
   "execution_count": 6,
   "metadata": {},
   "outputs": [
    {
     "name": "stdout",
     "output_type": "stream",
     "text": [
      "   storeLocation      name  total_sales\n",
      "0         Austin    laptop   1018494.05\n",
      "1         Austin  backpack    115217.59\n",
      "2         Austin      pens     74622.52\n",
      "3         Denver    laptop   1961659.25\n",
      "4         Denver  backpack    245679.34\n",
      "5         Denver      pens    185008.39\n",
      "6         London    laptop   1073098.72\n",
      "7         London  backpack    144529.14\n",
      "8         London      pens     92602.30\n",
      "9       New York    laptop    694613.32\n",
      "10      New York  backpack     82563.14\n",
      "11      New York      pens     64029.90\n",
      "12     San Diego    laptop    462973.58\n",
      "13     San Diego  backpack     50997.42\n",
      "14     San Diego      pens     42134.55\n",
      "15       Seattle    laptop   1565138.15\n",
      "16       Seattle  backpack    178387.47\n",
      "17       Seattle      pens    123445.61\n"
     ]
    }
   ],
   "source": [
    "store_product_sales = df.groupby(['storeLocation', 'name'])['total_sales'].sum().reset_index()\n",
    "top_3_by_store = store_product_sales.groupby('storeLocation').apply(lambda x: x.nlargest(3, 'total_sales')).reset_index(drop=True)\n",
    "print(top_3_by_store)\n"
   ]
  },
  {
   "cell_type": "code",
   "execution_count": 7,
   "metadata": {},
   "outputs": [
    {
     "name": "stdout",
     "output_type": "stream",
     "text": [
      "storeLocation\n",
      "Denver       2921009.92\n",
      "Seattle      2255947.69\n",
      "London       1583066.79\n",
      "Austin       1445603.11\n",
      "New York     1016059.59\n",
      "San Diego     672885.17\n",
      "Name: total_sales, dtype: float64\n"
     ]
    }
   ],
   "source": [
    "store_rankings = df.groupby('storeLocation')['total_sales'].sum().sort_values(ascending=False)\n",
    "print(store_rankings)\n"
   ]
  },
  {
   "cell_type": "code",
   "execution_count": 15,
   "metadata": {},
   "outputs": [
    {
     "name": "stdout",
     "output_type": "stream",
     "text": [
      "   In store  Online  Phone\n",
      "F      8062    4270   1499\n",
      "M      7571    4314   1722\n"
     ]
    }
   ],
   "source": [
    "# Extract the gender from the 'customer' column\n",
    "df['gender'] = df['customer'].str.extract(\"'gender': '(\\w)'\")[0]\n",
    "\n",
    "# Pivot table\n",
    "pivot_table = df.groupby(['gender', 'purchaseMethod']).size().unstack().fillna(0)\n",
    "\n",
    "pivot_table.index.name = None\n",
    "pivot_table.columns.name = None\n",
    "\n",
    "print(pivot_table)\n"
   ]
  },
  {
   "cell_type": "code",
   "execution_count": 10,
   "metadata": {},
   "outputs": [
    {
     "name": "stdout",
     "output_type": "stream",
     "text": [
      "saleDate\n",
      "2013-01    196043.76\n",
      "2013-02    147622.59\n",
      "2013-03    140700.06\n",
      "2013-04    162336.67\n",
      "2013-05    179143.37\n",
      "2013-06    142132.02\n",
      "2013-07    176298.23\n",
      "2013-08    130977.22\n",
      "2013-09    137871.99\n",
      "2013-10    173126.73\n",
      "2013-11    148358.38\n",
      "2013-12    174306.96\n",
      "2014-01    125824.02\n",
      "2014-02    141174.41\n",
      "2014-03    193413.50\n",
      "2014-04    132593.08\n",
      "2014-05    166896.80\n",
      "2014-06    143304.56\n",
      "2014-07    184804.60\n",
      "2014-08    167979.81\n",
      "2014-09    159802.92\n",
      "2014-10    149284.84\n",
      "2014-11    180564.85\n",
      "2014-12    139466.83\n",
      "2015-01    222538.97\n",
      "2015-02    189776.15\n",
      "2015-03    178086.94\n",
      "2015-04    132298.50\n",
      "2015-05    167482.69\n",
      "2015-06    149484.34\n",
      "2015-07    149510.47\n",
      "2015-08    154868.63\n",
      "2015-09    135615.80\n",
      "2015-10    175215.34\n",
      "2015-11    158390.42\n",
      "2015-12    166565.02\n",
      "2016-01    166558.93\n",
      "2016-02    120783.52\n",
      "2016-03    193185.17\n",
      "2016-04    137340.27\n",
      "2016-05    162966.06\n",
      "2016-06    132942.54\n",
      "2016-07    180331.10\n",
      "2016-08    164482.37\n",
      "2016-09    138299.53\n",
      "2016-10    151698.93\n",
      "2016-11    170758.41\n",
      "2016-12    215400.07\n",
      "2017-01    207037.75\n",
      "2017-02    134527.54\n",
      "2017-03    162351.15\n",
      "2017-04    191990.94\n",
      "2017-05    202403.85\n",
      "2017-06    201552.55\n",
      "2017-07    156106.90\n",
      "2017-08    173196.13\n",
      "2017-09    186976.26\n",
      "2017-10    188906.45\n",
      "2017-11    202330.86\n",
      "2017-12    175697.72\n",
      "Freq: M, Name: total_sales, dtype: float64\n"
     ]
    },
    {
     "name": "stderr",
     "output_type": "stream",
     "text": [
      "/var/folders/c_/6y5mqbbs2613c28614lp7czc0000gn/T/ipykernel_65160/2145252483.py:5: UserWarning: Converting to PeriodArray/Index representation will drop timezone information.\n",
      "  monthly_sales = df.groupby(df['saleDate'].dt.to_period(\"M\"))['total_sales'].sum()\n"
     ]
    }
   ],
   "source": [
    "# Extract and convert the saleDate\n",
    "df['saleDate'] = pd.to_datetime(df['saleDate'].str.extract(\"{'\\$date': '([^']+)'}\")[0], errors='coerce')\n",
    "\n",
    "# Group by month and sum the sales\n",
    "monthly_sales = df.groupby(df['saleDate'].dt.to_period(\"M\"))['total_sales'].sum()\n",
    "print(monthly_sales)\n"
   ]
  },
  {
   "cell_type": "markdown",
   "metadata": {},
   "source": [
    "# Analysis"
   ]
  },
  {
   "cell_type": "code",
   "execution_count": 16,
   "metadata": {},
   "outputs": [
    {
     "name": "stdout",
     "output_type": "stream",
     "text": [
      "storeLocation\n",
      "New York     3.802756\n",
      "London       3.796815\n",
      "Denver       3.787000\n",
      "Seattle      3.771279\n",
      "Austin       3.767442\n",
      "San Diego    3.741935\n",
      "Name: satisfaction, dtype: float64\n"
     ]
    }
   ],
   "source": [
    "# Extract satisfaction from the 'customer' column\n",
    "df['satisfaction'] = df['customer'].str.extract(\"'satisfaction': (\\d+)\").astype(float)\n",
    "\n",
    "# Group by store location and calculate average satisfaction\n",
    "average_satisfaction_by_location = df.groupby('storeLocation')['satisfaction'].mean().sort_values(ascending=False)\n",
    "\n",
    "print(average_satisfaction_by_location)\n"
   ]
  },
  {
   "cell_type": "code",
   "execution_count": null,
   "metadata": {},
   "outputs": [],
   "source": []
  }
 ],
 "metadata": {
  "kernelspec": {
   "display_name": "Python 3",
   "language": "python",
   "name": "python3"
  },
  "language_info": {
   "codemirror_mode": {
    "name": "ipython",
    "version": 3
   },
   "file_extension": ".py",
   "mimetype": "text/x-python",
   "name": "python",
   "nbconvert_exporter": "python",
   "pygments_lexer": "ipython3",
   "version": "3.11.4"
  }
 },
 "nbformat": 4,
 "nbformat_minor": 2
}
